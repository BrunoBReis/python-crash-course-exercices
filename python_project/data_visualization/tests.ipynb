{
 "cells": [
  {
   "cell_type": "code",
   "execution_count": 170,
   "metadata": {},
   "outputs": [],
   "source": [
    "from die import Die\n",
    "import plotly.express as px"
   ]
  },
  {
   "cell_type": "code",
   "execution_count": 200,
   "metadata": {},
   "outputs": [],
   "source": [
    "def roll_dices(dices:list, times:int):\n",
    "    results = []\n",
    "    for rull_num in range(times):\n",
    "        dice_roll = [dice.roll() for dice in dices]\n",
    "        results.append(dice_roll)\n",
    "    return results\n"
   ]
  },
  {
   "cell_type": "code",
   "execution_count": 204,
   "metadata": {},
   "outputs": [],
   "source": [
    "def sum_dices(results: list):\n",
    "    sum_dices = []\n",
    "    for roll_dice in results:\n",
    "        each_list = sum(roll_dice)\n",
    "        sum_dices.append(each_list)\n",
    "    return sum_dices\n"
   ]
  },
  {
   "cell_type": "code",
   "execution_count": 234,
   "metadata": {},
   "outputs": [],
   "source": [
    "def multiply_dices(results: list):\n",
    "    \"\"\"Multiply each pair of dice\"\"\"\n",
    "    mult_dices = []\n",
    "    for roll_dice in results:\n",
    "        each_list = np.prod(roll_dice)\n",
    "        mult_dices.append(each_list)\n",
    "    return mult_dices"
   ]
  },
  {
   "cell_type": "code",
   "execution_count": 172,
   "metadata": {},
   "outputs": [],
   "source": [
    "def max_value(dices: list[Die]):\n",
    "    count = 0\n",
    "    for dice in dices:\n",
    "        count += dice.num_sides\n",
    "    return count"
   ]
  },
  {
   "cell_type": "code",
   "execution_count": 188,
   "metadata": {},
   "outputs": [],
   "source": [
    "def poss_result_die(dices: list[Die]):\n",
    "    max_dice_value = max_value(dices)\n",
    "    min_dice_value = len(dices)\n",
    "    return range(min_dice_value, max_dice_value + 1)"
   ]
  },
  {
   "cell_type": "code",
   "execution_count": 195,
   "metadata": {},
   "outputs": [],
   "source": [
    "def frequency(dices: list[Die], results: list):\n",
    "    frequencies = []\n",
    "    poss_result = poss_result_die(dices)\n",
    "    for result in list(poss_result):\n",
    "        freq = results.count(result)\n",
    "        frequencies.append(freq)\n",
    "    return frequencies"
   ]
  },
  {
   "cell_type": "code",
   "execution_count": 238,
   "metadata": {},
   "outputs": [
    {
     "ename": "TypeError",
     "evalue": "'list' object is not callable",
     "output_type": "error",
     "traceback": [
      "\u001b[0;31m---------------------------------------------------------------------------\u001b[0m",
      "\u001b[0;31mTypeError\u001b[0m                                 Traceback (most recent call last)",
      "Cell \u001b[0;32mIn[238], line 9\u001b[0m\n\u001b[1;32m      7\u001b[0m dices \u001b[38;5;241m=\u001b[39m roll_dices(current_dices, \u001b[38;5;241m10\u001b[39m)\n\u001b[1;32m      8\u001b[0m \u001b[38;5;66;03m# print(dices)\u001b[39;00m\n\u001b[0;32m----> 9\u001b[0m sum_dices \u001b[38;5;241m=\u001b[39m \u001b[43msum_dices\u001b[49m\u001b[43m(\u001b[49m\u001b[43mdices\u001b[49m\u001b[43m)\u001b[49m\n\u001b[1;32m     10\u001b[0m \u001b[38;5;28mprint\u001b[39m(\u001b[38;5;28msum\u001b[39m)\n",
      "\u001b[0;31mTypeError\u001b[0m: 'list' object is not callable"
     ]
    }
   ],
   "source": [
    "die_1 = Die()\n",
    "die_2 = Die()\n",
    "die_3 = Die()\n",
    "\n",
    "current_dices = [die_1, die_2]\n",
    "\n",
    "dices = roll_dices(current_dices, 10)\n",
    "# print(dices)\n",
    "soma = sum_dices(dices)\n",
    "print(soma)"
   ]
  }
 ],
 "metadata": {
  "kernelspec": {
   "display_name": "Python 3",
   "language": "python",
   "name": "python3"
  },
  "language_info": {
   "codemirror_mode": {
    "name": "ipython",
    "version": 3
   },
   "file_extension": ".py",
   "mimetype": "text/x-python",
   "name": "python",
   "nbconvert_exporter": "python",
   "pygments_lexer": "ipython3",
   "version": "3.10.12"
  }
 },
 "nbformat": 4,
 "nbformat_minor": 2
}
